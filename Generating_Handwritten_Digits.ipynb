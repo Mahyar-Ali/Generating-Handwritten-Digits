{
  "nbformat": 4,
  "nbformat_minor": 0,
  "metadata": {
    "colab": {
      "name": "Generating Handwritten Digits.ipynb",
      "provenance": []
    },
    "kernelspec": {
      "name": "python3",
      "display_name": "Python 3"
    },
    "accelerator": "GPU"
  },
  "cells": [
    {
      "cell_type": "code",
      "metadata": {
        "id": "kjOyHm-4bZMb",
        "colab_type": "code",
        "colab": {}
      },
      "source": [
        "import numpy as np\n",
        "import tensorflow as tf\n",
        "import matplotlib.pyplot as plt"
      ],
      "execution_count": 0,
      "outputs": []
    },
    {
      "cell_type": "code",
      "metadata": {
        "id": "Ip4Ke-x9cWIY",
        "colab_type": "code",
        "colab": {}
      },
      "source": [
        "!pip install -q imageio"
      ],
      "execution_count": 0,
      "outputs": []
    },
    {
      "cell_type": "code",
      "metadata": {
        "id": "haoGs0-3cwtM",
        "colab_type": "code",
        "colab": {}
      },
      "source": [
        "import glob\n",
        "import imageio\n",
        "import os\n",
        "import PIL\n",
        "import time\n",
        "\n",
        "from tensorflow.keras import layers\n",
        "\n",
        "from IPython import display"
      ],
      "execution_count": 0,
      "outputs": []
    },
    {
      "cell_type": "code",
      "metadata": {
        "id": "48Tt6f2y5YnO",
        "colab_type": "code",
        "colab": {
          "base_uri": "https://localhost:8080/",
          "height": 55
        },
        "outputId": "378582a5-8be4-4d49-b851-c734b4f786b7"
      },
      "source": [
        "(train_images,train_labels),(_,_) = tf.keras.datasets.mnist.load_data()"
      ],
      "execution_count": 4,
      "outputs": [
        {
          "output_type": "stream",
          "text": [
            "Downloading data from https://storage.googleapis.com/tensorflow/tf-keras-datasets/mnist.npz\n",
            "11493376/11490434 [==============================] - 0s 0us/step\n"
          ],
          "name": "stdout"
        }
      ]
    },
    {
      "cell_type": "code",
      "metadata": {
        "id": "B5XXSjvU5kep",
        "colab_type": "code",
        "colab": {}
      },
      "source": [
        "train_images = train_images.reshape(train_images.shape[0],28,28,1).astype('float32')\n",
        "train_images = (train_images-127.5)/127.5   #In order to normalize the images i.e.,[-1,1]"
      ],
      "execution_count": 0,
      "outputs": []
    },
    {
      "cell_type": "code",
      "metadata": {
        "id": "YOHFxO0T6Osm",
        "colab_type": "code",
        "colab": {}
      },
      "source": [
        "BUFFER_SIZE = 60000\n",
        "BATCH_SIZE = 256"
      ],
      "execution_count": 0,
      "outputs": []
    },
    {
      "cell_type": "code",
      "metadata": {
        "id": "INDbVf1w6Xuq",
        "colab_type": "code",
        "colab": {}
      },
      "source": [
        "train_dataset = tf.data.Dataset.from_tensor_slices(train_images).shuffle(BUFFER_SIZE).batch(BATCH_SIZE)"
      ],
      "execution_count": 0,
      "outputs": []
    },
    {
      "cell_type": "code",
      "metadata": {
        "id": "sQJltiGH7334",
        "colab_type": "code",
        "colab": {}
      },
      "source": [
        "class Generator_Model(tf.keras.Model):\n",
        "  def __init__(self):\n",
        "    super(Generator_Model,self).__init__()\n",
        "    self.dense_1 = layers.Dense(7*7*256,use_bias=False)\n",
        "    self.batch_norm_1 = layers.BatchNormalization()\n",
        "    self.leaky_relu_1 = layers.LeakyReLU()\n",
        "\n",
        "    self.reshapor_1 = layers.Reshape([7,7,256])\n",
        "    self.conv_1 = layers.Conv2DTranspose(128,(5,5),strides=(1,1),padding='same',use_bias=False)\n",
        "    self.batch_norm_2 = layers.BatchNormalization()\n",
        "    self.leaky_relu_2 = layers.LeakyReLU()\n",
        "\n",
        "    self.conv_2 = layers.Conv2DTranspose(64,(5,5),strides=(2,2),padding='same',use_bias=False)\n",
        "    self.batch_norm_3 = layers.BatchNormalization()\n",
        "    self.leaky_relu_3 = layers.LeakyReLU()\n",
        "\n",
        "    self.conv_3 = layers.Conv2DTranspose(1,(5,5),strides=(2,2),padding='same',use_bias=False)\n",
        "\n",
        "  def call(self,x):\n",
        "    x = self.dense_1(x)\n",
        "    x = self.batch_norm_1(x)\n",
        "    x = self.leaky_relu_1(x)\n",
        "\n",
        "    x = self.reshapor_1(x)\n",
        "    x = self.conv_1(x)\n",
        "    x = self.batch_norm_2(x)\n",
        "    x = self.leaky_relu_2(x)\n",
        "\n",
        "    x = self.conv_2(x)\n",
        "    x = self.batch_norm_3(x)\n",
        "    x = self.leaky_relu_3(x)\n",
        "\n",
        "    out = self.conv_3(x)\n",
        "\n",
        "    return out\n"
      ],
      "execution_count": 0,
      "outputs": []
    },
    {
      "cell_type": "code",
      "metadata": {
        "id": "BBJdIinNB_O3",
        "colab_type": "code",
        "colab": {
          "base_uri": "https://localhost:8080/",
          "height": 284
        },
        "outputId": "7fbb3c6d-89fd-4fa3-8eba-665b6e99ec32"
      },
      "source": [
        "generator = Generator_Model()\n",
        "noise = tf.random.normal([1,100])\n",
        "generated_image=generator(noise)\n",
        "\n",
        "plt.imshow(generated_image[0,:,:,0],cmap='gray')"
      ],
      "execution_count": 9,
      "outputs": [
        {
          "output_type": "execute_result",
          "data": {
            "text/plain": [
              "<matplotlib.image.AxesImage at 0x7f8c5036dcc0>"
            ]
          },
          "metadata": {
            "tags": []
          },
          "execution_count": 9
        },
        {
          "output_type": "display_data",
          "data": {
            "image/png": "[encoded data removed]",
            "text/plain": [
              "<Figure size 432x288 with 1 Axes>"
            ]
          },
          "metadata": {
            "tags": [],
            "needs_background": "light"
          }
        }
      ]
    },
    {
      "cell_type": "code",
      "metadata": {
        "id": "CQP7NJGZCfCO",
        "colab_type": "code",
        "colab": {}
      },
      "source": [
        "class Discriminator_Model(tf.keras.Model):\n",
        "  def __init__(self):\n",
        "    super(Discriminator_Model,self).__init__()\n",
        "\n",
        "    self.conv_1 = layers.Conv2D(64,(5,5),strides=(2,2),padding='same')\n",
        "    self.batch_norm_1 = layers.BatchNormalization()\n",
        "    self.leaky_relu_1 = layers.LeakyReLU()\n",
        "    self.drop_1 = layers.Dropout(0.3)\n",
        "\n",
        "    self.conv_2 = layers.Conv2D(128,(5,5),strides=(2,2),padding='same')\n",
        "    self.batch_norm_2=layers.BatchNormalization()\n",
        "    self.leaky_relu_2 = layers.LeakyReLU()\n",
        "    self.drop_2 = layers.Dropout(0.3)\n",
        "\n",
        "    self.flatten = layers.Flatten()\n",
        "    self.dense = layers.Dense(1)\n",
        "\n",
        "  def call(self,x):\n",
        "    x = self.conv_1(x)\n",
        "    x = self.batch_norm_1(x)\n",
        "    x = self.leaky_relu_1(x)\n",
        "    x = self.drop_1(x)\n",
        "\n",
        "    x = self.conv_2(x)\n",
        "    x = self.batch_norm_2(x)\n",
        "    x = self.leaky_relu_2(x)\n",
        "    x = self.drop_2(x)\n",
        "\n",
        "    flat = self.flatten(x)\n",
        "    out = self.dense(flat)\n",
        "\n",
        "    return out"
      ],
      "execution_count": 0,
      "outputs": []
    },
    {
      "cell_type": "code",
      "metadata": {
        "id": "muOktzbEErQn",
        "colab_type": "code",
        "colab": {
          "base_uri": "https://localhost:8080/",
          "height": 36
        },
        "outputId": "97ff655e-4650-4b55-dea6-df81a47bc471"
      },
      "source": [
        "discriminator = Discriminator_Model()\n",
        "decision = discriminator(generated_image)\n",
        "print(decision)"
      ],
      "execution_count": 11,
      "outputs": [
        {
          "output_type": "stream",
          "text": [
            "tf.Tensor([[-0.00100221]], shape=(1, 1), dtype=float32)\n"
          ],
          "name": "stdout"
        }
      ]
    },
    {
      "cell_type": "code",
      "metadata": {
        "id": "C_rEFtj7E3pS",
        "colab_type": "code",
        "colab": {}
      },
      "source": [
        "cross_entropy = tf.keras.losses.BinaryCrossentropy(from_logits=True)"
      ],
      "execution_count": 0,
      "outputs": []
    },
    {
      "cell_type": "code",
      "metadata": {
        "id": "GQypu60mFS_8",
        "colab_type": "code",
        "colab": {}
      },
      "source": [
        "def discriminator_loss(real_output,fake_output):\n",
        "  real_loss = cross_entropy(tf.ones_like(real_output),real_output)\n",
        "  fake_loss = cross_entropy(tf.zeros_like(fake_output),fake_output)\n",
        "  total_loss = real_loss+fake_loss\n",
        "  return total_loss"
      ],
      "execution_count": 0,
      "outputs": []
    },
    {
      "cell_type": "code",
      "metadata": {
        "id": "s30Jra_vFziK",
        "colab_type": "code",
        "colab": {}
      },
      "source": [
        "def generator_loss(fake_output):\n",
        "  return cross_entropy(tf.ones_like(fake_output),fake_output)"
      ],
      "execution_count": 0,
      "outputs": []
    },
    {
      "cell_type": "code",
      "metadata": {
        "id": "iGBKUA3eGMZJ",
        "colab_type": "code",
        "colab": {}
      },
      "source": [
        "generator_optimizer = tf.keras.optimizers.Adam(1e-4)\n",
        "discriminator_optimizer = tf.keras.optimizers.Adam(1e-4)"
      ],
      "execution_count": 0,
      "outputs": []
    },
    {
      "cell_type": "code",
      "metadata": {
        "id": "tflGYNS_Giq7",
        "colab_type": "code",
        "colab": {}
      },
      "source": [
        "checkpoint_dir = './training_checkpoints'\n",
        "checkpoint_prefix = os.path.join(checkpoint_dir, \"ckpt\")\n",
        "checkpoint = tf.train.Checkpoint(generator_optimizer=generator_optimizer,\n",
        "                                 discriminator_optimizer=discriminator_optimizer,\n",
        "                                 generator=generator,\n",
        "                                 discriminator=discriminator)\n"
      ],
      "execution_count": 0,
      "outputs": []
    },
    {
      "cell_type": "code",
      "metadata": {
        "id": "wB23TwgVG3yw",
        "colab_type": "code",
        "colab": {}
      },
      "source": [
        "EPOCHS = 100\n",
        "noise_dim = 100\n",
        "num_examples_to_generate = 10\n",
        "seed = tf.random.normal([num_examples_to_generate, noise_dim])\n"
      ],
      "execution_count": 0,
      "outputs": []
    },
    {
      "cell_type": "code",
      "metadata": {
        "id": "hfOZkAaHHME9",
        "colab_type": "code",
        "colab": {}
      },
      "source": [
        "def train_step(image):\n",
        "  noise = tf.random.normal([BATCH_SIZE,noise_dim])\n",
        "\n",
        "  with tf.GradientTape() as gen_tape,tf.GradientTape() as disc_tape:\n",
        "    generated_image=generator(noise)\n",
        "\n",
        "    real_output = discriminator(image)\n",
        "    fake_output = discriminator(generated_image)\n",
        "\n",
        "    gen_loss = generator_loss(fake_output)\n",
        "    disc_loss = discriminator_loss(real_output,fake_output)\n",
        "\n",
        "  grads_gen = gen_tape.gradient(gen_loss,generator.trainable_variables)\n",
        "  grads_disc = disc_tape.gradient(disc_loss,discriminator.trainable_variables)\n",
        "\n",
        "  generator_optimizer.apply_gradients(zip(grads_gen,generator.trainable_variables))\n",
        "  discriminator_optimizer.apply_gradients(zip(grads_disc,discriminator.trainable_variables))\n"
      ],
      "execution_count": 0,
      "outputs": []
    },
    {
      "cell_type": "code",
      "metadata": {
        "id": "-UXW7orVIvay",
        "colab_type": "code",
        "colab": {}
      },
      "source": [
        "def train(dataset,epochs):\n",
        "    for epoch in range(epochs):\n",
        "          start = time.time()\n",
        "\n",
        "          for image_batch in dataset:\n",
        "            train_step(image_batch)\n",
        "          # Produce images for the GIF as we go\n",
        "          display.clear_output(wait=True)\n",
        "          generate_and_save_images(generator,\n",
        "                                  epoch + 1,\n",
        "                                  seed)\n",
        "          # Save the model every 15 epochs\n",
        "          if (epoch + 1) % 15 == 0:\n",
        "            checkpoint.save(file_prefix = checkpoint_prefix)\n",
        "\n",
        "          print ('Time for epoch {} is {} sec'.format(epoch + 1, time.time()-start))\n",
        "\n",
        "    # Generate after the final epoch\n",
        "    display.clear_output(wait=True)\n",
        "    generate_and_save_images(generator,\n",
        "                            epochs,\n",
        "                            seed)"
      ],
      "execution_count": 0,
      "outputs": []
    },
    {
      "cell_type": "code",
      "metadata": {
        "id": "cElcR1AfJyG3",
        "colab_type": "code",
        "colab": {}
      },
      "source": [
        "def generate_and_save_images(model,epoch,test_input):\n",
        "  predictions = model(test_input)\n",
        "\n",
        "  fig = plt.figure(figsize=(4,4))\n",
        "\n",
        "  for i in range(predictions.shape[0]):\n",
        "    plt.subplot(4,4,i+1)\n",
        "    plt.imshow(predictions[i,:,:,0] * 127.5 + 127.5, cmap='gray')\n",
        "    plt.axis('off')\n",
        "\n",
        "  plt.savefig('image_at_epoch_{:04d}.png'.format(epoch))\n",
        "  plt.show()\n"
      ],
      "execution_count": 0,
      "outputs": []
    },
    {
      "cell_type": "code",
      "metadata": {
        "id": "zBGsAOI5KqzC",
        "colab_type": "code",
        "colab": {
          "base_uri": "https://localhost:8080/",
          "height": 192
        },
        "outputId": "b75d0bb1-0951-40fd-ce60-fcee6695c714"
      },
      "source": [
        "train(train_dataset,EPOCHS)"
      ],
      "execution_count": 26,
      "outputs": [
        {
          "output_type": "display_data",
          "data": {
            "image/png": "[encoded data removed]",
            "text/plain": [
              "<Figure size 288x288 with 10 Axes>"
            ]
          },
          "metadata": {
            "tags": [],
            "needs_background": "light"
          }
        }
      ]
    },
    {
      "cell_type": "code",
      "metadata": {
        "id": "5rRoTZGJREW3",
        "colab_type": "code",
        "colab": {
          "base_uri": "https://localhost:8080/",
          "height": 192
        },
        "outputId": "97df7693-452f-4745-cc41-c976571c4020"
      },
      "source": [
        "#Generating some new Images\n",
        "\n",
        "images = 10\n",
        "fig = plt.figure(figsize=(4,4))\n",
        "for i in range(images):\n",
        "    image = generator(tf.random.normal([1,100]))\n",
        "    ax=fig.add_subplot(4,4,i+1)\n",
        "    image = image[0,:,:,0]* 127.5 + 127.5\n",
        "    ax.imshow(image,cmap='gray')\n",
        "    plt.axis('off')"
      ],
      "execution_count": 43,
      "outputs": [
        {
          "output_type": "display_data",
          "data": {
            "image/png": "[encoded data removed]",
            "text/plain": [
              "<Figure size 288x288 with 10 Axes>"
            ]
          },
          "metadata": {
            "tags": [],
            "needs_background": "light"
          }
        }
      ]
    },
    {
      "cell_type": "code",
      "metadata": {
        "id": "vAhW8jMKWxb-",
        "colab_type": "code",
        "colab": {}
      },
      "source": [
        ""
      ],
      "execution_count": 0,
      "outputs": []
    }
  ]
}